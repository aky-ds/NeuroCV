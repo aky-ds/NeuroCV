{
 "cells": [
  {
   "cell_type": "code",
   "execution_count": null,
   "id": "8160880e",
   "metadata": {},
   "outputs": [],
   "source": []
  },
  {
   "cell_type": "code",
   "execution_count": 1,
   "id": "f0f4bfa8",
   "metadata": {},
   "outputs": [],
   "source": [
    "import os"
   ]
  },
  {
   "cell_type": "code",
   "execution_count": 2,
   "id": "e4ff1cb5",
   "metadata": {},
   "outputs": [],
   "source": [
    "from langchain_groq import ChatGroq\n",
    "import groq\n",
    "import os\n",
    "from dotenv import load_dotenv\n",
    "load_dotenv()\n",
    "os.environ[\"GROQ_API_KEY\"] = os.getenv(\"GROQ_API_KEY\")"
   ]
  },
  {
   "cell_type": "code",
   "execution_count": 13,
   "id": "36905f71",
   "metadata": {},
   "outputs": [],
   "source": [
    "from langchain.prompts import PromptTemplate\n",
    "from langchain_core.output_parsers import StrOutputParser\n",
    "from langchain_groq import ChatGroq\n",
    "\n",
    "def estimate_experience(text):\n",
    "    # Create a proper prompt template\n",
    "    prompt_template = PromptTemplate.from_template(\"\"\"\n",
    "    From the resume below, estimate the total years of professional work experience.\n",
    "    Consider all job roles and their start and end dates.\n",
    "    Return only a single number (e.g., 4.5 or 6) if it is not resume or you find no answer then return as 0:\n",
    "\n",
    "    Resume:\n",
    "    {text}\n",
    "    \"\"\")\n",
    "    \n",
    "    llm = ChatGroq(\n",
    "        model=\"llama3-70b-8192\",\n",
    "        temperature=0\n",
    "    )\n",
    "    \n",
    "    # Create a proper chain\n",
    "    chain = prompt_template | llm | StrOutputParser()\n",
    "    \n",
    "    # Invoke the chain with the input\n",
    "    result = chain.invoke({\"text\": text})\n",
    "    return result"
   ]
  },
  {
   "cell_type": "code",
   "execution_count": 4,
   "id": "ce42a923",
   "metadata": {},
   "outputs": [],
   "source": [
    "import PyPDF2\n",
    "def extract_text_from_pdf(pdf_file):\n",
    "    reader = PyPDF2.PdfReader(pdf_file)\n",
    "    text = ''\n",
    "    for page in reader.pages:\n",
    "        text += page.extract_text()\n",
    "    return text"
   ]
  },
  {
   "cell_type": "code",
   "execution_count": 5,
   "id": "7d76c2ee",
   "metadata": {},
   "outputs": [],
   "source": [
    "text=extract_text_from_pdf(\"abdi.pdf\")"
   ]
  },
  {
   "cell_type": "code",
   "execution_count": 6,
   "id": "76fde8b6",
   "metadata": {},
   "outputs": [
    {
     "data": {
      "text/plain": [
       "\" \\nStudent  Name : Abdullah Rajput  \\nRoll No: BSIT -2022 -04 \\nDepartment : Information  Technology  \\nAssignment : Technical  & Business  Writing  \\n \\nTitle:  Referencing, its types  & referencing in  \\nInformation Technology  \\n \\nTeacher : Miss  Komal  \\nWhat  is Referencing?  \\nReferencing  is the process of giving the full credit of content to the original author by respecting \\nhis contributions . It helps the reader to clarify and verify the content from the sources so that he \\ncan easily understand the research of the author. In short, we can say that refer encing improves \\nthe readability and authenticity while giving the full credit of so urces  to the original author . \\n \\n \\nImportance  of References:  \\n• It improves the efficiency of research.  \\n• It avoids plagiarism,  which causes the research to be not useful.  \\n• It respects the research of the original author by giving them the full credit.  \\n• It helps to maintain the consistency in writing while giving the credit to the original \\nauthor.  \\n• It enables the reader to read the research with ease.  \\n \\nMain  Types  of References:  \\nPrimary  Sources:  In primary sources , there is original research along with its publications.  \\nSecondary  Sources:  In secondary sources, there is an explanation, expansion,  and interpretation of \\noriginal research.  \\n \\nHow  Referencing  Works  in Information Technology : \\n•  It is used for referencing links, data sources, or origins.  \\n• It helps to explain and verify the facts and content of research.  \\n• It enables the traceability of digital information in IT  \\n• It guides documentation and academics for tech writing.  \\n• It helps the author to make an efficient research paper  \\n• IT specialists can use referencing to increase the authenticity of their search by giving \\nrespect to the contributions of the original autho r. \\n \\n \\nDo’s & Don’ts  of Referencing : • Ensure  that every source cited in the text is included.  \\n• Verify the names of the authors and the years of publication.  \\n• Maintain a copy of all references for safekeeping.  \\n• Consistently apply the same formatting style.  \\n• Avoid replicating another person's ideas without appropriately acknowledging them.  \\n \\n \\n  \""
      ]
     },
     "execution_count": 6,
     "metadata": {},
     "output_type": "execute_result"
    }
   ],
   "source": [
    "text"
   ]
  },
  {
   "cell_type": "code",
   "execution_count": 16,
   "id": "7e4963b1",
   "metadata": {},
   "outputs": [],
   "source": [
    "experience=int(estimate_experience(text))"
   ]
  },
  {
   "cell_type": "code",
   "execution_count": 17,
   "id": "0c2a675e",
   "metadata": {},
   "outputs": [
    {
     "data": {
      "text/plain": [
       "0"
      ]
     },
     "execution_count": 17,
     "metadata": {},
     "output_type": "execute_result"
    }
   ],
   "source": [
    "experience"
   ]
  },
  {
   "cell_type": "code",
   "execution_count": null,
   "id": "26721905",
   "metadata": {},
   "outputs": [],
   "source": []
  }
 ],
 "metadata": {
  "kernelspec": {
   "display_name": "base",
   "language": "python",
   "name": "python3"
  },
  "language_info": {
   "codemirror_mode": {
    "name": "ipython",
    "version": 3
   },
   "file_extension": ".py",
   "mimetype": "text/x-python",
   "name": "python",
   "nbconvert_exporter": "python",
   "pygments_lexer": "ipython3",
   "version": "3.12.7"
  }
 },
 "nbformat": 4,
 "nbformat_minor": 5
}
